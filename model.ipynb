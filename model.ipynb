{
 "cells": [
  {
   "cell_type": "code",
   "execution_count": 4,
   "metadata": {},
   "outputs": [],
   "source": [
    "probability_dict = {} #placeholder for CPT table that we will calculate from another file\n"
   ]
  },
  {
   "cell_type": "code",
   "execution_count": 5,
   "metadata": {},
   "outputs": [],
   "source": [
    "import numpy as np\n",
    "\n",
    "class BlackjackAI:\n",
    "    def __init__(self, probabilities):\n",
    "        \"\"\"\n",
    "        Initializes the AI agent with probabilities for decision-making.\n",
    "        :param probabilities: Dictionary of probability estimates (from dataset analysis)\n",
    "        \"\"\"\n",
    "        self.probabilities = probabilities  # Precomputed probabilities from data\n",
    "\n",
    "    def get_action(self, player_hand, dealer_card, bet_stage):\n",
    "        \"\"\"\n",
    "        Determines the best action based on the player's hand, dealer's face-up card, and betting stage.\n",
    "        :param player_hand: List of player's cards\n",
    "        :param dealer_card: The dealer's face-up card\n",
    "        :param bet_stage: Which bet stage the player is in (1, 2, or 3)\n",
    "        :return: Chosen action (\"Hit\", \"Stand\", \"Split\", \"Bet\", or \"Swap\")\n",
    "        \"\"\"\n",
    "        hand_sum = sum(player_hand)\n",
    "        num_cards = len(player_hand)\n",
    "        \n",
    "        # **1. HIT Decision**: If probability of busting is low\n",
    "        bust_probability = self.get_bust_probability(hand_sum)\n",
    "        if hand_sum < 17 and bust_probability < 0.3:\n",
    "            return \"Hit\"\n",
    "        \n",
    "        # **2. STAND Decision**: If bust probability is high or hand sum is strong\n",
    "        if hand_sum >= 17 or bust_probability >= 0.5:\n",
    "            return \"Stand\"\n",
    "        \n",
    "        # **3. SPLIT Decision**: If splitting is beneficial\n",
    "        if player_hand[0] == player_hand[1] and self.get_split_value(player_hand, dealer_card) > 0:\n",
    "            return \"Split\"\n",
    "        \n",
    "        # **4. BET Decision**: Scale betting based on hand strength\n",
    "        if bet_stage < 3:  # Can only bet up to 3 times\n",
    "            return \"Bet\"\n",
    "        \n",
    "        # **5. SWAP Decision**: If swapping improves hand value\n",
    "        if self.should_swap(player_hand, dealer_card):\n",
    "            return \"Swap\"\n",
    "        \n",
    "        return \"Stand\"  # Default conservative move\n",
    "\n",
    "    def get_bust_probability(self, hand_sum):\n",
    "        \"\"\"Returns probability of busting if hitting.\"\"\"\n",
    "        return self.probabilities.get(f\"bust_prob_{hand_sum}\", 0.5)  # Default 50% if not precomputed\n",
    "\n",
    "    def get_split_value(self, player_hand, dealer_card):\n",
    "        \"\"\"Returns expected value increase of splitting.\"\"\"\n",
    "        return self.probabilities.get(f\"split_value_{player_hand[0]}_{dealer_card}\", 0)\n",
    "\n",
    "    def should_swap(self, player_hand, dealer_card):\n",
    "        \"\"\"Determines whether swapping is beneficial.\"\"\"\n",
    "        swap_value = self.probabilities.get(f\"swap_benefit_{player_hand[0]}_{player_hand[1]}_{dealer_card}\", 0)\n",
    "        return swap_value > 0\n"
   ]
  },
  {
   "cell_type": "code",
   "execution_count": 6,
   "metadata": {},
   "outputs": [
    {
     "name": "stdout",
     "output_type": "stream",
     "text": [
      "Agent Decision: Bet\n"
     ]
    }
   ],
   "source": [
    "# arbitrary value to show agent function\n",
    "probability_data = {\n",
    "    \"bust_prob_15\": 0.25, \"bust_prob_16\": 0.35, \"bust_prob_17\": 0.50,\n",
    "    \"split_value_8_6\": 1, \"swap_benefit_5_10_6\": 0.2\n",
    "}\n",
    "agent = BlackjackAI(probabilities=probability_data)\n",
    "player_hand = [10, 6]\n",
    "dealer_card = 5  \n",
    "bet_stage = 2  \n",
    "print(\"Agent Decision:\", agent.get_action(player_hand, dealer_card, bet_stage))"
   ]
  },
  {
   "cell_type": "code",
   "execution_count": 7,
   "metadata": {},
   "outputs": [
    {
     "name": "stdout",
     "output_type": "stream",
     "text": [
      "Simulation Results: {'win': 903, 'loss': 97}\n"
     ]
    }
   ],
   "source": [
    "import random\n",
    "\n",
    "# Simulate 1,000 rounds of blackjack\n",
    "def simulate_blackjack(agent, num_rounds=1000):\n",
    "    results = {\"win\": 0, \"loss\": 0}\n",
    "    \n",
    "    for _ in range(num_rounds):\n",
    "        # Generate random starting hand\n",
    "        player_hand = [random.randint(2, 11), random.randint(2, 11)]\n",
    "        dealer_card = random.randint(2, 11)\n",
    "        bet_stage = random.choice([1, 2, 3])\n",
    "        \n",
    "        # Get AI decision\n",
    "        action = agent.get_action(player_hand, dealer_card, bet_stage)\n",
    "        \n",
    "        # Simulate game outcome (simplified logic)\n",
    "        if action == \"Hit\":\n",
    "            if sum(player_hand) + random.randint(2, 11) > 21:  # Random hit\n",
    "                results[\"loss\"] += 1  # Busted\n",
    "            else:\n",
    "                results[\"win\"] += 1\n",
    "        elif action in [\"Stand\", \"Split\", \"Swap\"]:\n",
    "            results[\"win\"] += 1  # Conservative play gives better odds\n",
    "        else:\n",
    "            results[\"loss\"] += 1  # Risky bets may lose\n",
    "            \n",
    "    return results\n",
    "\n",
    "# Run the simulation\n",
    "simulation_results = simulate_blackjack(agent)\n",
    "print(\"Simulation Results:\", simulation_results)\n"
   ]
  }
 ],
 "metadata": {
  "kernelspec": {
   "display_name": "base",
   "language": "python",
   "name": "python3"
  },
  "language_info": {
   "codemirror_mode": {
    "name": "ipython",
    "version": 3
   },
   "file_extension": ".py",
   "mimetype": "text/x-python",
   "name": "python",
   "nbconvert_exporter": "python",
   "pygments_lexer": "ipython3",
   "version": "3.11.5"
  }
 },
 "nbformat": 4,
 "nbformat_minor": 2
}
